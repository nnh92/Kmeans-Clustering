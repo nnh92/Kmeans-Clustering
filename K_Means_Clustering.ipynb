{
  "nbformat": 4,
  "nbformat_minor": 0,
  "metadata": {
    "colab": {
      "name": "K-Means Clustering.ipynb",
      "provenance": [],
      "authorship_tag": "ABX9TyMbmbIQ/e17gf4GVmAHGxpl",
      "include_colab_link": true
    },
    "kernelspec": {
      "name": "python3",
      "display_name": "Python 3"
    }
  },
  "cells": [
    {
      "cell_type": "markdown",
      "metadata": {
        "id": "view-in-github",
        "colab_type": "text"
      },
      "source": [
        "<a href=\"https://colab.research.google.com/github/nnh92/Kmeans-Clustering/blob/main/K_Means_Clustering.ipynb\" target=\"_parent\"><img src=\"https://colab.research.google.com/assets/colab-badge.svg\" alt=\"Open In Colab\"/></a>"
      ]
    },
    {
      "cell_type": "code",
      "metadata": {
        "id": "ght8ae15o2hT",
        "colab": {
          "base_uri": "https://localhost:8080/",
          "height": 283
        },
        "outputId": "41962e45-b0f1-434a-a3a6-ea9c0aa6cc76"
      },
      "source": [
        "from __future__ import print_function\r\n",
        "import numpy as np\r\n",
        "import pandas as pd\r\n",
        "import matplotlib.pyplot as plt\r\n",
        "import scipy.spatial.distance as cdist\r\n",
        "\r\n",
        "dtA = pd.read_csv('https://raw.githubusercontent.com/nnh92/Kmeans-Clustering/main/Database-A.csv').values\r\n",
        "dtB = pd.read_csv('https://raw.githubusercontent.com/nnh92/Kmeans-Clustering/main/Database-B.csv').values\r\n",
        "dtC = pd.read_csv('https://raw.githubusercontent.com/nnh92/Kmeans-Clustering/main/Database-C.csv').values\r\n",
        "\r\n",
        "X = np.concatenate((dtA,dtB,dtC), axis =0)\r\n",
        "\r\n",
        "original_label = np.asarray([0]*len(dtA) + [1]*len(dtB) + [2]*len(dtC)).T\r\n",
        "#print(original_label)\r\n",
        "print(X.shape)\r\n",
        "#print(dtA)\r\n",
        "\r\n",
        "def kmeans_display(X, label):\r\n",
        "  K = np.amax(label) + 1\r\n",
        "  X0 = X[label==0,:]\r\n",
        "  X1 = X[label==1,:]\r\n",
        "  X2 = X[label==2,:]\r\n",
        "  plt.plot(dtA[:,0],dtA[:,1],'b^',markersize = 4, alpha = .8)\r\n",
        "  plt.plot(dtB[:,0],dtB[:,1],'rs',markersize = 4, alpha = .8)\r\n",
        "  plt.plot(dtC[:,0],dtC[:,1],'go',markersize = 4, alpha = .8)\r\n",
        "\r\n",
        "  plt.axis('equal')\r\n",
        "  plt.plot()\r\n",
        "  plt.show()\r\n",
        "\r\n",
        "\r\n",
        "#print(dtA)\r\n",
        "#print(X)\r\n",
        "\r\n",
        "kmeans_display(X,original_label)\r\n",
        "\r\n",
        "def kmeans_int_centers(X,k):\r\n",
        "  return X[np.random.choice(X.shape(), k, replace = False)]\r\n",
        "\r\n",
        "\r\n",
        "\r\n",
        "\r\n"
      ],
      "execution_count": null,
      "outputs": [
        {
          "output_type": "stream",
          "text": [
            "(297, 2)\n"
          ],
          "name": "stdout"
        },
        {
          "output_type": "display_data",
          "data": {
            "image/png": "[encoded data removed]",
            "text/plain": [
              "<Figure size 432x288 with 1 Axes>"
            ]
          },
          "metadata": {
            "tags": [],
            "needs_background": "light"
          }
        }
      ]
    }
  ]
}