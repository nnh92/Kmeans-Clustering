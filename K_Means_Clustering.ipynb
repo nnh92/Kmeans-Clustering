{
  "nbformat": 4,
  "nbformat_minor": 0,
  "metadata": {
    "colab": {
      "name": "K-Means Clustering.ipynb",
      "provenance": [],
      "collapsed_sections": [],
      "authorship_tag": "ABX9TyOP92sCH7UDQRxw8iTTPA1a",
      "include_colab_link": true
    },
    "kernelspec": {
      "name": "python3",
      "display_name": "Python 3"
    }
  },
  "cells": [
    {
      "cell_type": "markdown",
      "metadata": {
        "id": "view-in-github",
        "colab_type": "text"
      },
      "source": [
        "<a href=\"https://colab.research.google.com/github/nnh92/Kmeans-Clustering/blob/main/K_Means_Clustering.ipynb\" target=\"_parent\"><img src=\"https://colab.research.google.com/assets/colab-badge.svg\" alt=\"Open In Colab\"/></a>"
      ]
    },
    {
      "cell_type": "code",
      "metadata": {
        "id": "ght8ae15o2hT",
        "colab": {
          "base_uri": "https://localhost:8080/",
          "height": 545
        },
        "outputId": "1ba12e85-0a8e-4906-c2e4-6481b4b93a81"
      },
      "source": [
        "from __future__ import print_function\n",
        "import numpy as np\n",
        "import pandas as pd\n",
        "import matplotlib.pyplot as plt\n",
        "from scipy.spatial.distance import cdist\n",
        "\n",
        "dtA = pd.read_csv('https://raw.githubusercontent.com/nnh92/Kmeans-Clustering/main/Database-A.csv').values\n",
        "#dtB = pd.read_csv('https://raw.githubusercontent.com/nnh92/Kmeans-Clustering/main/Database-B.csv').values\n",
        "#dtC = pd.read_csv('https://raw.githubusercontent.com/nnh92/Kmeans-Clustering/main/Database-C.csv').values\n",
        "\n",
        "X = dtA\n",
        "#X = np.concatenate((dtA,dtB), axis = 0)\n",
        "#X = np.concatenate((dtA,dtB,dtC), axis =0)\n",
        "K = 6\n",
        "\n",
        "original_label = np.asarray([0]*len(dtA)).T\n",
        "#original_label = np.asarray([0]*len(dtA) + [1]*len(dtB)).T\n",
        "#original_label = np.asarray([0]*len(dtA) + [1]*len(dtB) + [2]*len(dtC)).T\n",
        "#print(original_label)\n",
        "#print(X.shape)\n",
        "#print(X)\n",
        "\n",
        "def kmeans_display(X, label):\n",
        "  K = np.amax(label) + 1\n",
        "  X0 = X[label==0,:]\n",
        "  X1 = X[label==1,:]\n",
        "  X2 = X[label==2,:]\n",
        "  X3 = X[label==3,:]\n",
        "  X4 = X[label==4,:]\n",
        "  X5 = X[label==5,:]\n",
        "  X6 = X[label==6,:]\n",
        "  plt.plot(X0[:,0],X0[:,1],'b*',markersize = 6, alpha = .8)\n",
        "  plt.plot(X1[:,0],X1[:,1],'r*',markersize = 6, alpha = .8)\n",
        "  plt.plot(X2[:,0],X2[:,1],'m^',markersize = 6, alpha = .8)\n",
        "  plt.plot(X3[:,0],X3[:,1],'cD',markersize = 6, alpha = .8)\n",
        "  plt.plot(X4[:,0],X4[:,1],'gD',markersize = 6, alpha = .8)\n",
        "  plt.plot(X5[:,0],X5[:,1],'yD',markersize = 6, alpha = .8)\n",
        "  plt.plot(X6[:,0],X6[:,1],'k*',markersize = 6, alpha = .8)\n",
        "\n",
        "  plt.axis('equal')\n",
        "  plt.title('Point view')\n",
        "  plt.plot()\n",
        "  plt.show()\n",
        "\n",
        "\n",
        "#print(dtA)\n",
        "#print(X)\n",
        "\n",
        "kmeans_display(X,original_label)\n",
        "\n",
        "def kmeans_int_centers(X,k):\n",
        "  return X[np.random.choice(X.shape[0], k, replace = False)]\n",
        "\n",
        "def kmeans_assign_label(X,centers):\n",
        "  D = cdist(X,centers)\n",
        "  return np.argmin(D, axis = 1)\n",
        "\n",
        "#print(X.shape[0])\n",
        "#int_centers = kmeans_int_centers(X,3)\n",
        "\n",
        "def kmeans_update_centers(X, labels, K):\n",
        "  centers = np.zeros((K, X.shape[1]))\n",
        "  for k in range(K):\n",
        "    Xk = X[labels == k,:]\n",
        "    centers[k,:] = np.mean(Xk, axis = 0)\n",
        "  return centers\n",
        "\n",
        "#print(X.shape[0])\n",
        "\n",
        "def kmeans_converged(centers, new_centers):\n",
        "  return (set([tuple(a) for a in centers]) == set([tuple(a) for a in new_centers]))\n",
        "\n",
        "def kmeans(X, K):\n",
        "  centers = [kmeans_int_centers(X, K)]\n",
        "  i = 0\n",
        "  labels = []\n",
        "  while True:\n",
        "    labels.append(kmeans_assign_label(X, centers[-1]))\n",
        "    new_centers = kmeans_update_centers(X, labels[-1],K)\n",
        "    if kmeans_converged(centers[-1],new_centers):\n",
        "      break\n",
        "    centers.append(new_centers)\n",
        "    i += 1\n",
        "  return (centers , labels, i)\n",
        "\n",
        "kmeans(X, K)\n",
        "\n",
        "(centers, labels, i) = kmeans(X, K)\n",
        "kmeans_display(X, labels[-1])\n",
        "\n",
        "\n",
        "\n",
        "#print([kmeans_int_centers(X,3)])\n"
      ],
      "execution_count": 13,
      "outputs": [
        {
          "output_type": "display_data",
          "data": {
            "image/png": "[encoded data removed]",
            "text/plain": [
              "<Figure size 432x288 with 1 Axes>"
            ]
          },
          "metadata": {
            "tags": [],
            "needs_background": "light"
          }
        },
        {
          "output_type": "display_data",
          "data": {
            "image/png": "[encoded data removed]",
            "text/plain": [
              "<Figure size 432x288 with 1 Axes>"
            ]
          },
          "metadata": {
            "tags": [],
            "needs_background": "light"
          }
        }
      ]
    }
  ]
}