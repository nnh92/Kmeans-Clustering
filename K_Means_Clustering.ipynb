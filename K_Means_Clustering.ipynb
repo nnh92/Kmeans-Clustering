{
  "nbformat": 4,
  "nbformat_minor": 0,
  "metadata": {
    "colab": {
      "name": "K-Means Clustering.ipynb",
      "provenance": [],
      "authorship_tag": "ABX9TyPuSqf0yaWcz5qWzlHwNmzu",
      "include_colab_link": true
    },
    "kernelspec": {
      "name": "python3",
      "display_name": "Python 3"
    }
  },
  "cells": [
    {
      "cell_type": "markdown",
      "metadata": {
        "id": "view-in-github",
        "colab_type": "text"
      },
      "source": [
        "<a href=\"https://colab.research.google.com/github/nnh92/Kmeans-Clustering/blob/main/K_Means_Clustering.ipynb\" target=\"_parent\"><img src=\"https://colab.research.google.com/assets/colab-badge.svg\" alt=\"Open In Colab\"/></a>"
      ]
    },
    {
      "cell_type": "code",
      "metadata": {
        "id": "ght8ae15o2hT",
        "colab": {
          "base_uri": "https://localhost:8080/",
          "height": 1000
        },
        "outputId": "ce6bc253-dd5b-4156-d42f-479bfa09e6a6"
      },
      "source": [
        "from __future__ import print_function\r\n",
        "import numpy as np\r\n",
        "import pandas as pd\r\n",
        "import matplotlib.pyplot as plt\r\n",
        "import scipy.spatial.distance as cdist\r\n",
        "\r\n",
        "dtA = pd.read_csv('https://raw.githubusercontent.com/nnh92/Kmeans-Clustering/main/Database-A.csv').values\r\n",
        "dtB = pd.read_csv('https://raw.githubusercontent.com/nnh92/Kmeans-Clustering/main/Database-B.csv').values\r\n",
        "dtC = pd.read_csv('https://raw.githubusercontent.com/nnh92/Kmeans-Clustering/main/Database-C.csv').values\r\n",
        "\r\n",
        "print(dtA)\r\n",
        "plt.plot(dtA[:,0],dtA[:,1],'b^',markersize = 4, alpha = .8)\r\n",
        "X = np.concatenate(dtA,dtB,dtC, axis =0)\r\n",
        "\r\n",
        "print(dtA)\r\n",
        "\r\n",
        "\r\n"
      ],
      "execution_count": 11,
      "outputs": [
        {
          "output_type": "stream",
          "text": [
            "[[2.649 1.384]\n",
            " [1.788 2.264]\n",
            " [4.629 4.242]\n",
            " [3.665 4.859]\n",
            " [1.228 3.126]\n",
            " [4.188 3.998]\n",
            " [1.51  4.964]\n",
            " [3.652 2.53 ]\n",
            " [3.893 2.712]\n",
            " [3.231 4.205]\n",
            " [4.172 4.864]\n",
            " [1.528 4.624]\n",
            " [4.948 2.998]\n",
            " [4.581 3.295]\n",
            " [2.858 2.421]\n",
            " [3.669 1.584]\n",
            " [2.151 1.252]\n",
            " [3.724 2.669]\n",
            " [1.892 1.036]\n",
            " [2.444 1.258]\n",
            " [1.851 3.988]\n",
            " [2.484 3.629]\n",
            " [4.893 2.684]\n",
            " [3.974 1.371]\n",
            " [3.023 3.528]\n",
            " [3.679 4.088]\n",
            " [3.956 4.491]\n",
            " [1.8   2.616]\n",
            " [4.293 4.895]\n",
            " [3.103 4.268]\n",
            " [1.202 2.8  ]\n",
            " [1.22  4.067]\n",
            " [2.433 4.939]\n",
            " [3.801 4.219]\n",
            " [1.592 4.077]\n",
            " [2.098 4.228]\n",
            " [3.278 3.185]\n",
            " [2.951 1.646]\n",
            " [2.611 2.842]\n",
            " [3.955 2.064]\n",
            " [3.244 1.574]\n",
            " [4.493 3.931]\n",
            " [2.181 3.197]\n",
            " [2.157 1.021]\n",
            " [2.597 4.805]\n",
            " [1.98  3.01 ]\n",
            " [2.175 1.862]\n",
            " [2.014 3.841]\n",
            " [2.613 3.349]\n",
            " [2.055 2.776]\n",
            " [1.814 1.444]\n",
            " [4.049 2.276]\n",
            " [2.126 3.158]\n",
            " [4.702 4.362]\n",
            " [2.841 1.102]\n",
            " [1.423 1.095]\n",
            " [1.883 2.091]\n",
            " [2.584 2.759]\n",
            " [3.767 3.568]\n",
            " [4.594 1.687]\n",
            " [2.288 1.861]\n",
            " [1.731 3.283]\n",
            " [3.973 3.982]\n",
            " [1.377 2.476]\n",
            " [1.641 4.033]\n",
            " [3.061 1.815]\n",
            " [3.237 2.925]\n",
            " [3.537 1.893]\n",
            " [2.959 3.797]\n",
            " [1.158 1.521]\n",
            " [4.994 4.582]\n",
            " [1.527 4.703]\n",
            " [2.009 4.972]\n",
            " [4.469 2.028]\n",
            " [3.993 1.097]\n",
            " [2.373 2.184]\n",
            " [3.434 3.638]\n",
            " [2.637 3.492]\n",
            " [4.329 1.729]\n",
            " [2.885 1.946]\n",
            " [4.337 1.645]\n",
            " [3.667 1.582]\n",
            " [3.773 3.379]\n",
            " [4.445 1.455]\n",
            " [2.956 4.024]\n",
            " [2.    1.577]\n",
            " [1.592 4.525]\n",
            " [3.967 2.044]\n",
            " [4.904 1.001]\n",
            " [4.133 4.667]\n",
            " [1.741 4.262]\n",
            " [3.066 2.1  ]\n",
            " [4.45  1.916]\n",
            " [4.765 2.047]\n",
            " [2.626 1.776]\n",
            " [2.22  1.06 ]\n",
            " [4.312 3.587]\n",
            " [2.082 4.017]\n",
            " [3.598 1.336]]\n"
          ],
          "name": "stdout"
        },
        {
          "output_type": "error",
          "ename": "TypeError",
          "evalue": "ignored",
          "traceback": [
            "\u001b[0;31m---------------------------------------------------------------------------\u001b[0m",
            "\u001b[0;31mTypeError\u001b[0m                                 Traceback (most recent call last)",
            "\u001b[0;32m<ipython-input-11-5b2266c95378>\u001b[0m in \u001b[0;36m<module>\u001b[0;34m()\u001b[0m\n\u001b[1;32m     11\u001b[0m \u001b[0mprint\u001b[0m\u001b[0;34m(\u001b[0m\u001b[0mdtA\u001b[0m\u001b[0;34m)\u001b[0m\u001b[0;34m\u001b[0m\u001b[0;34m\u001b[0m\u001b[0m\n\u001b[1;32m     12\u001b[0m \u001b[0mplt\u001b[0m\u001b[0;34m.\u001b[0m\u001b[0mplot\u001b[0m\u001b[0;34m(\u001b[0m\u001b[0mdtA\u001b[0m\u001b[0;34m[\u001b[0m\u001b[0;34m:\u001b[0m\u001b[0;34m,\u001b[0m\u001b[0;36m0\u001b[0m\u001b[0;34m]\u001b[0m\u001b[0;34m,\u001b[0m\u001b[0mdtA\u001b[0m\u001b[0;34m[\u001b[0m\u001b[0;34m:\u001b[0m\u001b[0;34m,\u001b[0m\u001b[0;36m1\u001b[0m\u001b[0;34m]\u001b[0m\u001b[0;34m,\u001b[0m\u001b[0;34m'b^'\u001b[0m\u001b[0;34m,\u001b[0m\u001b[0mmarkersize\u001b[0m \u001b[0;34m=\u001b[0m \u001b[0;36m4\u001b[0m\u001b[0;34m,\u001b[0m \u001b[0malpha\u001b[0m \u001b[0;34m=\u001b[0m \u001b[0;36m0.8\u001b[0m\u001b[0;34m)\u001b[0m\u001b[0;34m\u001b[0m\u001b[0;34m\u001b[0m\u001b[0m\n\u001b[0;32m---> 13\u001b[0;31m \u001b[0mX\u001b[0m \u001b[0;34m=\u001b[0m \u001b[0mnp\u001b[0m\u001b[0;34m.\u001b[0m\u001b[0mconcatenate\u001b[0m\u001b[0;34m(\u001b[0m\u001b[0mdtA\u001b[0m\u001b[0;34m,\u001b[0m\u001b[0mdtB\u001b[0m\u001b[0;34m,\u001b[0m\u001b[0mdtC\u001b[0m\u001b[0;34m,\u001b[0m \u001b[0maxis\u001b[0m \u001b[0;34m=\u001b[0m\u001b[0;36m0\u001b[0m\u001b[0;34m)\u001b[0m\u001b[0;34m\u001b[0m\u001b[0;34m\u001b[0m\u001b[0m\n\u001b[0m\u001b[1;32m     14\u001b[0m \u001b[0;34m\u001b[0m\u001b[0m\n\u001b[1;32m     15\u001b[0m \u001b[0mprint\u001b[0m\u001b[0;34m(\u001b[0m\u001b[0mdtA\u001b[0m\u001b[0;34m)\u001b[0m\u001b[0;34m\u001b[0m\u001b[0;34m\u001b[0m\u001b[0m\n",
            "\u001b[0;32m<__array_function__ internals>\u001b[0m in \u001b[0;36mconcatenate\u001b[0;34m(*args, **kwargs)\u001b[0m\n",
            "\u001b[0;31mTypeError\u001b[0m: concatenate() got multiple values for argument 'axis'"
          ]
        },
        {
          "output_type": "display_data",
          "data": {
            "image/png": "[encoded data removed]",
            "text/plain": [
              "<Figure size 432x288 with 1 Axes>"
            ]
          },
          "metadata": {
            "tags": [],
            "needs_background": "light"
          }
        }
      ]
    }
  ]
}