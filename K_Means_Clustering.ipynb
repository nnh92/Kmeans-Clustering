{
  "nbformat": 4,
  "nbformat_minor": 0,
  "metadata": {
    "colab": {
      "name": "K-Means Clustering.ipynb",
      "provenance": [],
      "authorship_tag": "ABX9TyPeTBwLbc+jAekSR4zypj1I",
      "include_colab_link": true
    },
    "kernelspec": {
      "name": "python3",
      "display_name": "Python 3"
    }
  },
  "cells": [
    {
      "cell_type": "markdown",
      "metadata": {
        "id": "view-in-github",
        "colab_type": "text"
      },
      "source": [
        "<a href=\"https://colab.research.google.com/github/nnh92/Kmeans-Clustering/blob/main/K_Means_Clustering.ipynb\" target=\"_parent\"><img src=\"https://colab.research.google.com/assets/colab-badge.svg\" alt=\"Open In Colab\"/></a>"
      ]
    },
    {
      "cell_type": "code",
      "metadata": {
        "id": "ght8ae15o2hT"
      },
      "source": [
        "from __future__ import print_function\r\n",
        "import numpy as np\r\n",
        "import pandas as pd\r\n",
        "import matplotlib.pyplot as plt\r\n",
        "import scipy.spatial.distance as cdist\r\n",
        "\r\n",
        "dtA = pd.read('https://raw.githubusercontent.com/nnh92/Kmeans-Clustering/main/Database-A.csv').values\r\n",
        "dtB = pd.read('https://raw.githubusercontent.com/nnh92/Kmeans-Clustering/main/Database-B.csv').values\r\n",
        "dtC = pd.read('https://raw.githubusercontent.com/nnh92/Kmeans-Clustering/main/Database-C.csv').values\r\n",
        "\r\n",
        "X = np.concatenate(dtA,dtB,dtC)\r\n"
      ],
      "execution_count": 4,
      "outputs": []
    }
  ]
}