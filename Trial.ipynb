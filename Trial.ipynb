{
  "nbformat": 4,
  "nbformat_minor": 0,
  "metadata": {
    "colab": {
      "name": "Trial.ipynb",
      "provenance": [],
      "authorship_tag": "ABX9TyO0UAe1ONeL2K8mNYImQgW2",
      "include_colab_link": true
    },
    "kernelspec": {
      "name": "python3",
      "display_name": "Python 3"
    },
    "language_info": {
      "name": "python"
    }
  },
  "cells": [
    {
      "cell_type": "markdown",
      "metadata": {
        "id": "view-in-github",
        "colab_type": "text"
      },
      "source": [
        "<a href=\"https://colab.research.google.com/github/nnh92/Kmeans-Clustering/blob/main/Trial.ipynb\" target=\"_parent\"><img src=\"https://colab.research.google.com/assets/colab-badge.svg\" alt=\"Open In Colab\"/></a>"
      ]
    },
    {
      "cell_type": "code",
      "metadata": {
        "colab": {
          "base_uri": "https://localhost:8080/",
          "height": 1000
        },
        "id": "IAZ68OW9z0g-",
        "outputId": "cf3f344e-95c7-4dbe-ce53-07da5229c2d4"
      },
      "source": [
        "from __future__ import print_function\n",
        "import numpy as np\n",
        "import pandas as pd\n",
        "import matplotlib.pyplot as plt\n",
        "from scipy.spatial.distance import cdist\n",
        "N = 10\n",
        "A = np.random.multivariate_normal([1,1],[[3,0],[0,3]],N)\n",
        "\n",
        "original_label = np.asarray([0]*len(A[:,0]))\n",
        "X = A\n",
        "K = 4\n",
        "\n",
        "original_label_K = np.asarray([0]*K)\n",
        "#print(original_label)\n",
        "\n",
        "def kmeans_display(X, label):\n",
        "  X0 = X[label == 0,:]\n",
        "  X1 = X[label == 1,:]\n",
        "  X2 = X[label == 2,:]\n",
        "  X3 = X[label == 3,:]\n",
        "  plt.plot(X0[:,0],X0[:,1],'b*',markersize = 6)\n",
        "  plt.plot(X1[:,0],X1[:,1],'ro',markersize = 6)\n",
        "  plt.plot(X2[:,0],X2[:,1],'y*',markersize = 6)\n",
        "  plt.plot(X3[:,0],X3[:,1],'ko',markersize = 6)\n",
        "\n",
        "  plt.title('bieu do Kmeans')\n",
        "  plt.show()\n",
        "\n",
        "#kmeans_display(X,original_label)\n",
        "\n",
        "def kmeans_int_centers(X,k):\n",
        "  #print(X[np.random.choice(X.shape[0],k, replace=False)])\n",
        "  return X[np.random.choice(X.shape[0],k,replace = False)]\n",
        "\n",
        "#print(X.shape[0])\n",
        "TR = kmeans_int_centers(X,K)\n",
        "#print(type(TR))\n",
        "kmeans_display(TR,original_label_K)\n",
        "\n",
        "def kmeans_assign_centers(X, centers):\n",
        "  D = cdist(X, centers)\n",
        "  #print(D)\n",
        "  return np.argmin(D, axis = 1)\n",
        "\n",
        "#print(kmeans_assign_centers(X, TR))\n",
        "#print(len(kmeans_assign_centers(X,TR)))\n",
        "#print(X)\n",
        "\n",
        "def kmeans_update_centers(X, label, K):\n",
        "  centers = np.zeros((K,X.shape[1]))\n",
        "  #print(centers)\n",
        "  for k in range(K):\n",
        "    Xk = X[label==k,:]\n",
        "    centers[k,:] = np.mean(Xk, axis = 0)\n",
        "    print(np.mean(Xk, axis = 0))\n",
        "    print(k)\n",
        "  return centers\n",
        "\n",
        "def kmeans_converged(centers, new_centers):\n",
        "  return (set([tuple(a) for a in centers]) == set([tuple(b) for b in new_centers]))\n",
        "\n",
        "#print(np.zeros(X.shape[0]))\n",
        "def kmeans(X, K):\n",
        "  centers = [kmeans_int_centers(X, K)]\n",
        "  labels = []\n",
        "  it = 0\n",
        "  while True:\n",
        "    labels.append(kmeans_assign_centers(X,centers[-1]))\n",
        "    new_centers = kmeans_update_centers(X, labels[-1], K)\n",
        "    if kmeans_converged(centers[-1], new_centers):\n",
        "      break\n",
        "    centers.append(new_centers)\n",
        "    it += 1\n",
        "  return (centers, labels, it)\n",
        "\n",
        "kmeans(X, K)\n",
        "(centers, labels, it) = kmeans(X, K)\n"
      ],
      "execution_count": 41,
      "outputs": [
        {
          "output_type": "display_data",
          "data": {
            "image/png": "[encoded data removed]",
            "text/plain": [
              "<Figure size 432x288 with 1 Axes>"
            ]
          },
          "metadata": {
            "tags": [],
            "needs_background": "light"
          }
        },
        {
          "output_type": "stream",
          "text": [
            "[-1.63198812  0.93614594]\n",
            "0\n",
            "[2.17929427 0.98843129]\n",
            "1\n",
            "[ 1.24919963 -1.75945111]\n",
            "2\n",
            "[0.63521337 0.99332385]\n",
            "3\n",
            "[-1.63198812  0.93614594]\n",
            "0\n",
            "[3.67744148 1.91634488]\n",
            "1\n",
            "[ 1.24919963 -1.75945111]\n",
            "2\n",
            "[0.64669679 0.76012231]\n",
            "3\n",
            "[-1.63198812  0.93614594]\n",
            "0\n",
            "[3.67744148 1.91634488]\n",
            "1\n",
            "[ 1.24919963 -1.75945111]\n",
            "2\n",
            "[0.64669679 0.76012231]\n",
            "3\n",
            "[ 1.71424695 -0.38550991]\n",
            "0\n",
            "[0.20816524 0.90502482]\n",
            "1\n",
            "[-1.68452234 -0.03003418]\n",
            "2\n",
            "[-2.13846287  2.19834427]\n",
            "3\n",
            "[ 2.05861358 -0.53418578]\n",
            "0\n",
            "[0.64669679 0.76012231]\n",
            "1\n",
            "[-1.37875074  0.30504677]\n",
            "2\n",
            "[-2.13846287  2.19834427]\n",
            "3\n",
            "[ 2.05861358 -0.53418578]\n",
            "0\n",
            "[0.64669679 0.76012231]\n",
            "1\n",
            "[-1.37875074  0.30504677]\n",
            "2\n",
            "[-2.13846287  2.19834427]\n",
            "3\n"
          ],
          "name": "stdout"
        }
      ]
    }
  ]
}