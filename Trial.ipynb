{
  "nbformat": 4,
  "nbformat_minor": 0,
  "metadata": {
    "colab": {
      "name": "Trial.ipynb",
      "provenance": [],
      "authorship_tag": "ABX9TyO36H0cLhVJJIACD03l2GFg",
      "include_colab_link": true
    },
    "kernelspec": {
      "name": "python3",
      "display_name": "Python 3"
    },
    "language_info": {
      "name": "python"
    }
  },
  "cells": [
    {
      "cell_type": "markdown",
      "metadata": {
        "id": "view-in-github",
        "colab_type": "text"
      },
      "source": [
        "<a href=\"https://colab.research.google.com/github/nnh92/Kmeans-Clustering/blob/main/Trial.ipynb\" target=\"_parent\"><img src=\"https://colab.research.google.com/assets/colab-badge.svg\" alt=\"Open In Colab\"/></a>"
      ]
    },
    {
      "cell_type": "code",
      "metadata": {
        "colab": {
          "base_uri": "https://localhost:8080/",
          "height": 361
        },
        "id": "IAZ68OW9z0g-",
        "outputId": "b485e82c-23aa-4409-88b0-3a6ac74b2f78"
      },
      "source": [
        "from __future__ import print_function\n",
        "import numpy as np\n",
        "import pandas as pd\n",
        "import matplotlib.pyplot as plt\n",
        "from scipy.spatial.distance import cdist\n",
        "N = 50\n",
        "A = np.random.multivariate_normal([1,1],[[3,0],[0,3]],N)\n",
        "\n",
        "original_label = np.asarray([0]*len(A[:,0]))\n",
        "X = A\n",
        "K = 4\n",
        "\n",
        "original_label_K = np.asarray([0]*K)\n",
        "#print(original_label)\n",
        "\n",
        "def kmeans_display(X, label):\n",
        "  X0 = X[label == 0,:]\n",
        "  X1 = X[label == 1,:]\n",
        "  X2 = X[label == 2,:]\n",
        "  X3 = X[label == 3,:]\n",
        "  plt.plot(X0[:,0],X0[:,1],'b*',markersize = 6)\n",
        "  plt.plot(X1[:,0],X1[:,1],'ro',markersize = 6)\n",
        "  plt.plot(X2[:,0],X2[:,1],'y*',markersize = 6)\n",
        "  plt.plot(X3[:,0],X3[:,1],'ko',markersize = 6)\n",
        "\n",
        "  plt.title('bieu do Kmeans')\n",
        "  plt.show()\n",
        "\n",
        "#kmeans_display(X,original_label)\n",
        "\n",
        "def kmeans_int_centers(X,k):\n",
        "  #print(X[np.random.choice(X.shape[0],k, replace=False)])\n",
        "  return X[np.random.choice(X.shape[0],k,replace = False)]\n",
        "\n",
        "#print(X.shape[0])\n",
        "TR = kmeans_int_centers(X,K)\n",
        "print(type(TR))\n",
        "kmeans_display(TR,original_label_K)\n",
        "\n",
        "def kmeans_assign_centers(X, centers):\n",
        "  D = cdist(X, centers)\n",
        "  #print(D)\n",
        "  return np.argmin(D, axis = 1)\n",
        "\n",
        "print(kmeans_assign_centers(X, TR))\n",
        "#print(X.shape[0])\n",
        "\n",
        "def kmeans(X, K):\n",
        "  centers = kmeans_int_centers(X, K)\n",
        "  labels = []\n",
        "  it = 0\n",
        "  while True:\n",
        "    labels.append(kmeans_assign_centers(X,centers[-1]))\n"
      ],
      "execution_count": 16,
      "outputs": [
        {
          "output_type": "stream",
          "text": [
            "<class 'numpy.ndarray'>\n"
          ],
          "name": "stdout"
        },
        {
          "output_type": "display_data",
          "data": {
            "image/png": "[encoded data removed]",
            "text/plain": [
              "<Figure size 432x288 with 1 Axes>"
            ]
          },
          "metadata": {
            "tags": [],
            "needs_background": "light"
          }
        },
        {
          "output_type": "stream",
          "text": [
            "[1 1 1 0 2 1 1 1 1 1 2 3 3 2 2 3 2 0 1 2 2 1 0 1 3 1 3 2 1 1 1 1 2 3 0 3 0\n",
            " 1 3 0 2 0 1 1 1 1 1 0 3 0]\n"
          ],
          "name": "stdout"
        }
      ]
    }
  ]
}