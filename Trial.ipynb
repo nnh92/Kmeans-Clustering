{
  "nbformat": 4,
  "nbformat_minor": 0,
  "metadata": {
    "colab": {
      "name": "Untitled2.ipynb",
      "provenance": [],
      "authorship_tag": "ABX9TyMtlT7ByNtE3sbJhRdO16mr",
      "include_colab_link": true
    },
    "kernelspec": {
      "name": "python3",
      "display_name": "Python 3"
    },
    "language_info": {
      "name": "python"
    }
  },
  "cells": [
    {
      "cell_type": "markdown",
      "metadata": {
        "id": "view-in-github",
        "colab_type": "text"
      },
      "source": [
        "<a href=\"https://colab.research.google.com/github/nnh92/Kmeans-Clustering/blob/main/Trial.ipynb\" target=\"_parent\"><img src=\"https://colab.research.google.com/assets/colab-badge.svg\" alt=\"Open In Colab\"/></a>"
      ]
    },
    {
      "cell_type": "code",
      "metadata": {
        "colab": {
          "base_uri": "https://localhost:8080/",
          "height": 1000
        },
        "id": "IAZ68OW9z0g-",
        "outputId": "7b5bae77-3dc6-4eff-97c4-4167958f87bd"
      },
      "source": [
        "from __future__ import print_function\n",
        "import numpy as np\n",
        "import pandas as pd\n",
        "import matplotlib.pyplot as plt\n",
        "from scipy.spatial.distance import cdist\n",
        "N = 50\n",
        "A = np.random.multivariate_normal([1,1],[[3,0],[0,3]],N)\n",
        "\n",
        "original_label = np.asarray([0]*len(A[:,0]))\n",
        "X = A\n",
        "K = 4\n",
        "\n",
        "original_label_K = np.asarray([0]*K)\n",
        "#print(original_label)\n",
        "\n",
        "def kmeans_display(X, label):\n",
        "  X0 = X[label == 0,:]\n",
        "  X1 = X[label == 1,:]\n",
        "  X2 = X[label == 2,:]\n",
        "  X3 = X[label == 3,:]\n",
        "  plt.plot(X0[:,0],X0[:,1],'b*',markersize = 6)\n",
        "  plt.plot(X1[:,0],X1[:,1],'ro',markersize = 6)\n",
        "  plt.plot(X2[:,0],X2[:,1],'y*',markersize = 6)\n",
        "  plt.plot(X3[:,0],X3[:,1],'ko',markersize = 6)\n",
        "\n",
        "  plt.title('bieu do Kmeans')\n",
        "  plt.show()\n",
        "\n",
        "#kmeans_display(X,original_label)\n",
        "\n",
        "def kmeans_int_centers(X,k):\n",
        "  #print(X[np.random.choice(X.shape[0],k, replace=False)])\n",
        "  return X[np.random.choice(X.shape[0],k,replace = False)]\n",
        "\n",
        "#print(X.shape[0])\n",
        "TR = kmeans_int_centers(X,K)\n",
        "#print(type(TR))\n",
        "kmeans_display(TR,original_label_K)\n",
        "\n",
        "def kmeans_distance(X, centers):\n",
        "  D = cdist(X, centers)\n",
        "  #print(D)\n",
        "  return np.argmin(D, axis = 1)\n",
        "\n",
        "print(kmeans_distance(X, TR))\n",
        "\n",
        "\n"
      ],
      "execution_count": 11,
      "outputs": [
        {
          "output_type": "display_data",
          "data": {
            "image/png": "[encoded data removed]",
            "text/plain": [
              "<Figure size 432x288 with 1 Axes>"
            ]
          },
          "metadata": {
            "tags": [],
            "needs_background": "light"
          }
        },
        {
          "output_type": "stream",
          "text": [
            "[[0.91717738 3.33681541 5.40484024 3.90856264]\n",
            " [4.11633755 2.41954873 2.23147341 5.27840999]\n",
            " [3.41713728 2.38275605 1.7581829  4.35989643]\n",
            " [1.6724156  4.31685692 4.74613034 2.13755378]\n",
            " [2.26075319 1.552502   2.77655574 4.06347392]\n",
            " [4.49162683 4.12585624 0.         3.99020435]\n",
            " [2.13089042 0.78514339 3.641397   4.66159194]\n",
            " [4.58036529 6.57320385 4.60193692 1.16522353]\n",
            " [3.18085472 2.59884259 1.56455554 3.87310755]\n",
            " [3.42562703 5.4466721  3.99020435 0.        ]\n",
            " [2.54407025 1.13725755 3.02090317 4.56365438]\n",
            " [3.03751099 3.38748322 1.52319886 2.83755799]\n",
            " [4.14323285 3.1707487  1.13174667 4.54089673]\n",
            " [3.33515395 3.42727339 1.17898911 3.13867849]\n",
            " [3.73881477 3.26939827 0.87224734 3.85121828]\n",
            " [3.34425931 4.21552123 1.89838054 2.1044361 ]\n",
            " [2.44808833 0.3377935  3.96216452 5.1169293 ]\n",
            " [4.99334134 5.68079875 2.12149013 2.85658906]\n",
            " [1.2816061  1.96439325 4.96626683 4.66636666]\n",
            " [2.34790392 0.45500053 3.89405888 4.99893358]\n",
            " [0.58812333 3.3031574  4.5303749  2.93928241]\n",
            " [2.80047665 5.20982024 4.62176231 1.06311067]\n",
            " [1.00790031 3.77127272 5.02208405 3.01074021]\n",
            " [4.24486871 1.74222176 3.61996905 6.20691227]\n",
            " [2.7704911  5.34971947 5.11490331 1.60014323]\n",
            " [2.41992687 4.02049871 6.86309139 5.42437399]\n",
            " [2.71720915 5.43603459 5.68065534 2.31899112]\n",
            " [2.76342374 0.         4.12585624 5.4466721 ]\n",
            " [0.94715608 3.15476929 5.42681067 4.1131167 ]\n",
            " [0.17327117 2.6352141  4.33289184 3.4055004 ]\n",
            " [4.93756508 2.67062896 3.25237884 6.42128382]\n",
            " [2.44189291 4.7349975  4.17323656 1.06087191]\n",
            " [3.55418895 1.14279252 3.45079532 5.64056823]\n",
            " [1.61236449 1.79690741 5.0875913  4.97849487]\n",
            " [4.72139609 4.3890814  0.26480681 4.05433152]\n",
            " [3.21179956 0.95462932 5.07248637 6.2216326 ]\n",
            " [0.         2.76342374 4.49162683 3.42562703]\n",
            " [2.93476436 4.1402119  2.38949134 1.7021971 ]\n",
            " [5.08735561 4.52878963 0.61431517 4.52226008]\n",
            " [2.40500323 3.09896302 2.15039628 2.61643443]\n",
            " [3.1677141  0.78587517 4.89515593 6.11439473]\n",
            " [5.55257621 5.88055547 1.92317654 3.67644449]\n",
            " [4.03710496 4.94714784 2.0496667  2.11266171]\n",
            " [1.05124081 2.43111993 5.16786366 4.47512155]\n",
            " [2.62272789 2.70434606 1.88442818 3.22187046]\n",
            " [3.14544407 4.25136836 7.47587006 6.27210409]\n",
            " [0.46659343 2.8756627  4.11824835 3.00414671]\n",
            " [3.62051142 2.7550385  1.38486242 4.24531275]\n",
            " [5.24741977 4.33067051 1.0563313  5.046185  ]\n",
            " [1.58595316 2.44530949 2.9083232  3.00710978]]\n",
            "[0 2 2 0 1 2 1 3 2 3 1 2 2 2 2 2 1 2 0 1 0 3 0 1 3 0 3 1 0 0 1 3 1 0 2 1 0\n",
            " 3 2 2 1 2 2 0 2 0 0 2 2 0]\n"
          ],
          "name": "stdout"
        }
      ]
    }
  ]
}