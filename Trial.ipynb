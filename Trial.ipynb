{
  "nbformat": 4,
  "nbformat_minor": 0,
  "metadata": {
    "colab": {
      "name": "Trial.ipynb",
      "provenance": [],
      "authorship_tag": "ABX9TyPRa5bTkYRZmb/V843226Bu",
      "include_colab_link": true
    },
    "kernelspec": {
      "name": "python3",
      "display_name": "Python 3"
    },
    "language_info": {
      "name": "python"
    }
  },
  "cells": [
    {
      "cell_type": "markdown",
      "metadata": {
        "id": "view-in-github",
        "colab_type": "text"
      },
      "source": [
        "<a href=\"https://colab.research.google.com/github/nnh92/Kmeans-Clustering/blob/Trial/Trial.ipynb\" target=\"_parent\"><img src=\"https://colab.research.google.com/assets/colab-badge.svg\" alt=\"Open In Colab\"/></a>"
      ]
    },
    {
      "cell_type": "code",
      "metadata": {
        "colab": {
          "base_uri": "https://localhost:8080/",
          "height": 1000
        },
        "id": "IAZ68OW9z0g-",
        "outputId": "65e9c18b-f751-44a6-fbbf-a778fdc86285"
      },
      "source": [
        "from __future__ import print_function\n",
        "import numpy as np\n",
        "import pandas as pd\n",
        "import matplotlib.pyplot as plt\n",
        "from scipy.spatial.distance import cdist\n",
        "N = 10\n",
        "A = np.random.multivariate_normal([1,1],[[3,0],[0,3]],N)\n",
        "\n",
        "original_label = np.asarray([0]*len(A[:,0]))\n",
        "X = A\n",
        "K = 4\n",
        "\n",
        "original_label_K = np.asarray([5]*K)\n",
        "#print(original_label)\n",
        "\n",
        "def kmeans_display(X, label):\n",
        "  X0 = X[label == 0,:]\n",
        "  X1 = X[label == 1,:]\n",
        "  X2 = X[label == 2,:]\n",
        "  X3 = X[label == 3,:]\n",
        "  X4 = X[label == 4,:]\n",
        "  X5 = X[label == 5,:]\n",
        "  X6 = X[label == 6,:]\n",
        "  plt.plot(X0[:,0],X0[:,1],'b*',markersize = 6)\n",
        "  plt.plot(X1[:,0],X1[:,1],'go',markersize = 6)\n",
        "  plt.plot(X2[:,0],X2[:,1],'r*',markersize = 6)\n",
        "  plt.plot(X3[:,0],X3[:,1],'co',markersize = 6)\n",
        "  plt.plot(X4[:,0],X4[:,1],'mo',markersize = 6)\n",
        "  plt.plot(X5[:,0],X5[:,1],'y*',markersize = 6)\n",
        "  plt.plot(X6[:,0],X6[:,1],'k^',markersize = 6)\n",
        "\n",
        "  plt.title('bieu do Kmeans')\n",
        "  #plt.show()\n",
        "\n",
        "#kmeans_display(X,original_label)\n",
        "\n",
        "def kmeans_int_centers(X,k):\n",
        "  #print(X[np.random.choice(X.shape[0],k, replace=False)])\n",
        "  return X[np.random.choice(X.shape[0],k,replace = False)]\n",
        "\n",
        "#print(X.shape[0])\n",
        "TR = kmeans_int_centers(X,K)\n",
        "#print(type(TR))\n",
        "kmeans_display(TR,original_label_K)\n",
        "\n",
        "def kmeans_assign_centers(X, centers):\n",
        "  D = cdist(X, centers)\n",
        "  #print(D)\n",
        "  return np.argmin(D, axis = 1)\n",
        "\n",
        "#print(kmeans_assign_centers(X, TR))\n",
        "#print(len(kmeans_assign_centers(X,TR)))\n",
        "print(X)\n",
        "\n",
        "def kmeans_update_centers(X, label, K):\n",
        "  centers = np.zeros((K,X.shape[1]))\n",
        "  #print(centers)\n",
        "  for k in range(K):\n",
        "    Xk = X[label==k,:]\n",
        "    centers[k,:] = np.mean(Xk, axis = 0)\n",
        "    print(np.mean(Xk, axis = 1))\n",
        "    #print(k)\n",
        "  return centers\n",
        "\n",
        "def kmeans_converged(centers, new_centers):\n",
        "  return (set([tuple(a) for a in centers]) == set([tuple(b) for b in new_centers]))\n",
        "\n",
        "#print(np.zeros(X.shape[0]))\n",
        "def kmeans(X, K):\n",
        "  centers = [kmeans_int_centers(X, K)]\n",
        "  labels = []\n",
        "  it = 0\n",
        "  while True:\n",
        "    labels.append(kmeans_assign_centers(X,centers[-1]))\n",
        "    new_centers = kmeans_update_centers(X, labels[-1], K)\n",
        "    if kmeans_converged(centers[-1], new_centers):\n",
        "      break\n",
        "    centers.append(new_centers)\n",
        "    it += 1\n",
        "  return (centers, labels, it)\n",
        "\n",
        "kmeans(X, K)\n",
        "(centers, labels, it) = kmeans(X, K)\n",
        "\n",
        "kmeans_display(X,labels[-1])\n",
        "#print(centers[-1],it)\n",
        "kmeans_display(centers[-1], original_label_K)\n",
        "plt.show()\n",
        "\n",
        "for i in range(it+1):\n",
        "  kmeans_display(centers[i],original_label_K)\n",
        "  plt.show()\n",
        "  kmeans_display(X, labels)\n",
        "  i+=1\n",
        "  print(i)\n",
        "  plt.show()\n"
      ],
      "execution_count": 16,
      "outputs": [
        {
          "output_type": "stream",
          "text": [
            "[[ 2.56566477  2.08271445]\n",
            " [ 2.6692325   0.89743688]\n",
            " [ 1.01151114 -0.6307942 ]\n",
            " [ 0.63431377  1.01182515]\n",
            " [ 2.54121756 -2.19951025]\n",
            " [ 1.54816729  1.62172561]\n",
            " [-0.16051116 -1.2034875 ]\n",
            " [-1.43646236  1.2407922 ]\n",
            " [-0.07601953 -0.01652841]\n",
            " [ 0.51630324  5.1118508 ]]\n",
            "[2.32418961 1.78333469 1.58494645]\n",
            "[0.17085366]\n",
            "[2.81407702]\n",
            "[ 0.19035847  0.82306946 -0.68199933 -0.09783508 -0.04627397]\n",
            "[2.32418961 1.78333469 1.58494645]\n",
            "[0.17085366]\n",
            "[2.81407702]\n",
            "[ 0.19035847  0.82306946 -0.68199933 -0.09783508 -0.04627397]\n",
            "[0.17085366]\n",
            "[ 2.32418961  1.78333469  0.82306946  1.58494645 -0.09783508]\n",
            "[ 0.19035847 -0.68199933 -0.04627397]\n",
            "[2.81407702]\n",
            "[0.17085366]\n",
            "[2.32418961 1.78333469 0.82306946 1.58494645]\n",
            "[ 0.19035847 -0.68199933 -0.09783508 -0.04627397]\n",
            "[2.81407702]\n",
            "[0.17085366]\n",
            "[2.32418961 1.78333469 0.82306946 1.58494645]\n",
            "[ 0.19035847 -0.68199933 -0.09783508 -0.04627397]\n",
            "[2.81407702]\n"
          ],
          "name": "stdout"
        },
        {
          "output_type": "display_data",
          "data": {
            "image/png": "[encoded data removed]",
            "text/plain": [
              "<Figure size 432x288 with 1 Axes>"
            ]
          },
          "metadata": {
            "tags": [],
            "needs_background": "light"
          }
        },
        {
          "output_type": "display_data",
          "data": {
            "image/png": "[encoded data removed]",
            "text/plain": [
              "<Figure size 432x288 with 1 Axes>"
            ]
          },
          "metadata": {
            "tags": [],
            "needs_background": "light"
          }
        },
        {
          "output_type": "stream",
          "text": [
            "1\n"
          ],
          "name": "stdout"
        },
        {
          "output_type": "display_data",
          "data": {
            "image/png": "[encoded data removed]",
            "text/plain": [
              "<Figure size 432x288 with 1 Axes>"
            ]
          },
          "metadata": {
            "tags": [],
            "needs_background": "light"
          }
        },
        {
          "output_type": "display_data",
          "data": {
            "image/png": "[encoded data removed]",
            "text/plain": [
              "<Figure size 432x288 with 1 Axes>"
            ]
          },
          "metadata": {
            "tags": [],
            "needs_background": "light"
          }
        },
        {
          "output_type": "stream",
          "text": [
            "2\n"
          ],
          "name": "stdout"
        },
        {
          "output_type": "display_data",
          "data": {
            "image/png": "[encoded data removed]",
            "text/plain": [
              "<Figure size 432x288 with 1 Axes>"
            ]
          },
          "metadata": {
            "tags": [],
            "needs_background": "light"
          }
        },
        {
          "output_type": "display_data",
          "data": {
            "image/png": "[encoded data removed]",
            "text/plain": [
              "<Figure size 432x288 with 1 Axes>"
            ]
          },
          "metadata": {
            "tags": [],
            "needs_background": "light"
          }
        },
        {
          "output_type": "stream",
          "text": [
            "3\n"
          ],
          "name": "stdout"
        },
        {
          "output_type": "display_data",
          "data": {
            "image/png": "[encoded data removed]",
            "text/plain": [
              "<Figure size 432x288 with 1 Axes>"
            ]
          },
          "metadata": {
            "tags": [],
            "needs_background": "light"
          }
        }
      ]
    },
    {
      "cell_type": "code",
      "metadata": {
        "id": "mui8j--I_jSp"
      },
      "source": [
        ""
      ],
      "execution_count": null,
      "outputs": []
    }
  ]
}